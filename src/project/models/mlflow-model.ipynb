{
 "cells": [
  {
   "cell_type": "code",
   "execution_count": 3,
   "id": "cda77756-557d-4706-88c3-d8052653f42e",
   "metadata": {},
   "outputs": [],
   "source": [
    "#Just some imports you will need\n",
    "import mlflow\n",
    "import jwt\n",
    "import json\n",
    "import warnings\n",
    "import sys\n",
    "import pandas as pd\n",
    "import numpy as np\n",
    "from sklearn.metrics import mean_squared_error, mean_absolute_error, r2_score\n",
    "from sklearn.model_selection import train_test_split\n",
    "from sklearn.linear_model import ElasticNet\n",
    "from urllib.parse import urlparse\n",
    "import mlflow\n",
    "import mlflow.sklearn\n",
    "import logging\n",
    "import os\n",
    "logging.basicConfig(level=logging.WARN)\n",
    "logger = logging.getLogger(__name__)"
   ]
  },
  {
   "cell_type": "code",
   "execution_count": 4,
   "id": "b7c7f411-8edd-4872-9083-46bcf37b0d4d",
   "metadata": {},
   "outputs": [
    {
     "name": "stdout",
     "output_type": "stream",
     "text": [
      "MLFLOW_TRACKING_URI: http://127.0.0.1:8765\n"
     ]
    }
   ],
   "source": [
    "print('MLFLOW_TRACKING_URI: ' + os.environ['MLFLOW_TRACKING_URI'])"
   ]
  },
  {
   "cell_type": "code",
   "execution_count": 5,
   "id": "41bbca43-22fe-4f3d-b63b-b09045b2da55",
   "metadata": {},
   "outputs": [],
   "source": [
    "client = mlflow.tracking.MlflowClient()"
   ]
  },
  {
   "cell_type": "code",
   "execution_count": 7,
   "id": "7524eff5-9f8c-4bbb-8c93-1c5cb074a693",
   "metadata": {},
   "outputs": [
    {
     "name": "stdout",
     "output_type": "stream",
     "text": [
      "DEMO-udaysk-domino_mlops\n"
     ]
    }
   ],
   "source": [
    "myprefix=''\n",
    "\n",
    "from datetime import datetime\n",
    "now = datetime.now()\n",
    "date_time_str = now.strftime(\"%m-%d-%Y\")\n",
    "\n",
    "experiment_name = 'demo'+'-' + os.environ['DOMINO_STARTING_USERNAME'] + '-' + os.environ['DOMINO_PROJECT_NAME']\n",
    "model_name = 'demo'+'-' + os.environ['DOMINO_PROJECT_NAME']\n",
    "if myprefix!='':\n",
    "    experiment_name = myprefix + '-' + experiment_name\n",
    "print(experiment_name)"
   ]
  },
  {
   "cell_type": "code",
   "execution_count": 8,
   "id": "a1baa537-85c1-41f6-bcaa-cc1753ea0f1f",
   "metadata": {},
   "outputs": [
    {
     "name": "stdout",
     "output_type": "stream",
     "text": [
      "Creating experiment \n",
      "DEMO-udaysk-domino_mlops\n"
     ]
    },
    {
     "data": {
      "text/plain": [
       "<Experiment: artifact_location='mlflow-artifacts:/mlflow', creation_time=1714028115620, experiment_id='760', last_update_time=1714028115620, lifecycle_stage='active', name='DEMO-udaysk-domino_mlops', tags={'mlflow.domino.dataset_info': '6626601005b050727a03be07-6626601005b050727a03be06',\n",
       " 'mlflow.domino.environment_id': '61e7b4d727227a585bb9e9e9',\n",
       " 'mlflow.domino.environment_revision_id': '63c201ceab92a65b16f16c8e',\n",
       " 'mlflow.domino.hardware_tier': 'small-k8s',\n",
       " 'mlflow.domino.project_id': '6626600e05b050727a03be02',\n",
       " 'mlflow.domino.project_name': 'domino_mlops',\n",
       " 'mlflow.domino.provenance_checkpoint_id': '6628d7f080c5dd6d5f094ed3',\n",
       " 'mlflow.domino.run_id': '6628d7d505b050727a03bf13',\n",
       " 'mlflow.domino.run_number': '1',\n",
       " 'mlflow.domino.user': 'udaysk',\n",
       " 'mlflow.domino.user_id': '65bd2cd71266902edb95c650',\n",
       " 'mlflow.source.git.branch': 'main',\n",
       " 'mlflow.source.git.commit': '68a1993c4af60a7f2d430076acb2167f97ae9c76',\n",
       " 'mlflow.source.type': 'NOTEBOOK',\n",
       " 'mlflow.user': 'udaysk'}>"
      ]
     },
     "execution_count": 8,
     "metadata": {},
     "output_type": "execute_result"
    }
   ],
   "source": [
    "experiment = client.get_experiment_by_name(name=experiment_name)\n",
    "if(experiment is None):\n",
    "    print('Creating experiment ')\n",
    "    client.create_experiment(name=experiment_name)\n",
    "    experiment = client.get_experiment_by_name(name=experiment_name)\n",
    "\n",
    "print(experiment_name)\n",
    "mlflow.set_experiment(experiment_name=experiment_name)"
   ]
  },
  {
   "cell_type": "code",
   "execution_count": 9,
   "id": "368a76dc-2f87-41e6-93cb-95ea807fed79",
   "metadata": {},
   "outputs": [],
   "source": [
    "def eval_metrics(actual, pred):\n",
    "    rmse = np.sqrt(mean_squared_error(actual, pred))\n",
    "    mae = mean_absolute_error(actual, pred)\n",
    "    r2 = r2_score(actual, pred)\n",
    "    return rmse, mae, r2"
   ]
  },
  {
   "cell_type": "code",
   "execution_count": 10,
   "id": "94951a25-8334-483f-acd3-d91be70f4ee9",
   "metadata": {},
   "outputs": [
    {
     "name": "stdout",
     "output_type": "stream",
     "text": [
      "Start Run\n",
      "Alpha : 0.7\n",
      "L1_Ratio : 0.6\n",
      "Elasticnet model (alpha=0.700000, l1_ratio=0.600000):\n",
      "  RMSE: 0.7555128766818596\n",
      "  MAE: 0.6334930689742281\n",
      "  R2: 0.037345942457275516\n",
      "http://127.0.0.1:8765\n",
      "http\n"
     ]
    },
    {
     "name": "stderr",
     "output_type": "stream",
     "text": [
      "Successfully registered model 'DEMO-domino_mlops'.\n",
      "2024/04/25 06:55:41 INFO mlflow.store.model_registry.abstract_store: Waiting up to 300 seconds for model version to finish creation. Model name: DEMO-domino_mlops, version 1\n",
      "Created version '1' of model 'DEMO-domino_mlops'.\n"
     ]
    },
    {
     "name": "stdout",
     "output_type": "stream",
     "text": [
      "mlflow-artifacts:/mlflow/ab700ede434e45bfb1667529a72d66ac/artifacts\n",
      "Start Run\n",
      "Alpha : 0.7999999999999999\n",
      "L1_Ratio : 0.65\n",
      "Elasticnet model (alpha=0.800000, l1_ratio=0.650000):\n",
      "  RMSE: 0.7567822485433978\n",
      "  MAE: 0.6355053405206407\n",
      "  R2: 0.034108426456301966\n",
      "http://127.0.0.1:8765\n",
      "http\n"
     ]
    },
    {
     "name": "stderr",
     "output_type": "stream",
     "text": [
      "Registered model 'DEMO-domino_mlops' already exists. Creating a new version of this model...\n",
      "2024/04/25 06:55:44 INFO mlflow.store.model_registry.abstract_store: Waiting up to 300 seconds for model version to finish creation. Model name: DEMO-domino_mlops, version 2\n",
      "Created version '2' of model 'DEMO-domino_mlops'.\n"
     ]
    },
    {
     "name": "stdout",
     "output_type": "stream",
     "text": [
      "mlflow-artifacts:/mlflow/6dfe62dd7be04d708c0ce18e67ed883a/artifacts\n",
      "Start Run\n",
      "Alpha : 0.8999999999999999\n",
      "L1_Ratio : 0.7000000000000001\n",
      "Elasticnet model (alpha=0.900000, l1_ratio=0.700000):\n",
      "  RMSE: 0.7570080643851105\n",
      "  MAE: 0.6362102528360067\n",
      "  R2: 0.0335319167389968\n",
      "http://127.0.0.1:8765\n",
      "http\n"
     ]
    },
    {
     "name": "stderr",
     "output_type": "stream",
     "text": [
      "Registered model 'DEMO-domino_mlops' already exists. Creating a new version of this model...\n",
      "2024/04/25 06:55:48 INFO mlflow.store.model_registry.abstract_store: Waiting up to 300 seconds for model version to finish creation. Model name: DEMO-domino_mlops, version 3\n",
      "Created version '3' of model 'DEMO-domino_mlops'.\n"
     ]
    },
    {
     "name": "stdout",
     "output_type": "stream",
     "text": [
      "mlflow-artifacts:/mlflow/301832768b014b8a875721b9bd65848c/artifacts\n",
      "Start Run\n",
      "Alpha : 0.9999999999999999\n",
      "L1_Ratio : 0.7500000000000001\n",
      "Elasticnet model (alpha=1.000000, l1_ratio=0.750000):\n",
      "  RMSE: 0.757266418646812\n",
      "  MAE: 0.6369790527846166\n",
      "  R2: 0.032872125205521296\n",
      "http://127.0.0.1:8765\n",
      "http\n"
     ]
    },
    {
     "name": "stderr",
     "output_type": "stream",
     "text": [
      "Registered model 'DEMO-domino_mlops' already exists. Creating a new version of this model...\n",
      "2024/04/25 06:55:51 INFO mlflow.store.model_registry.abstract_store: Waiting up to 300 seconds for model version to finish creation. Model name: DEMO-domino_mlops, version 4\n",
      "Created version '4' of model 'DEMO-domino_mlops'.\n"
     ]
    },
    {
     "name": "stdout",
     "output_type": "stream",
     "text": [
      "mlflow-artifacts:/mlflow/ad8ce4c900804d74baf24bb6a14880b8/artifacts\n"
     ]
    }
   ],
   "source": [
    "# Read the wine-quality csv file from the URL\n",
    "csv_url = (\n",
    "     \"http://archive.ics.uci.edu/ml/machine-learning-databases/wine-quality/winequality-red.csv\"\n",
    ")\n",
    "try:\n",
    "     data = pd.read_csv(csv_url, sep=\";\")\n",
    "except Exception as e:\n",
    "     logger.exception(\n",
    "          \"Unable to download training & test CSV, check your internet connection. Error: %s\", e\n",
    "      )\n",
    "\n",
    "# Split the data into training and test sets. (0.75, 0.25) split.\n",
    "train, test = train_test_split(data)\n",
    "\n",
    "# The predicted column is \"quality\" which is a scalar from [3, 9]\n",
    "train_x = train.drop([\"quality\"], axis=1)\n",
    "test_x = test.drop([\"quality\"], axis=1)\n",
    "train_y = train[[\"quality\"]]\n",
    "test_y = test[[\"quality\"]]\n",
    "\n",
    "\n",
    "my_log = \"This is a test log\"\n",
    "with open(\"/tmp/test.txt\", 'w') as f:\n",
    "    f.write(my_log)\n",
    "with open(\"/tmp/test.log\", 'w') as f:\n",
    "    f.write(my_log)\n",
    "\n",
    "    \n",
    "    \n",
    "#run_tags={'mlflow.user':os.environ['DOMINO_STARTING_USERNAME']}\n",
    "#Change user name\n",
    "alpha = 0.7\n",
    "l1_ratio = 0.6\n",
    "while(alpha<1):\n",
    "    with mlflow.start_run():\n",
    "        print('Start Run')\n",
    "        print('Alpha : ' + str(alpha))\n",
    "        print('L1_Ratio : ' + str(l1_ratio))\n",
    "        lr = ElasticNet(alpha=alpha, l1_ratio=l1_ratio, random_state=42)\n",
    "        lr.fit(train_x, train_y)\n",
    "        predicted_qualities = lr.predict(test_x)\n",
    "\n",
    "        (rmse, mae, r2) = eval_metrics(test_y, predicted_qualities)\n",
    "\n",
    "        print(\"Elasticnet model (alpha=%f, l1_ratio=%f):\" % (alpha, l1_ratio))\n",
    "        print(\"  RMSE: %s\" % rmse)\n",
    "        print(\"  MAE: %s\" % mae)\n",
    "        print(\"  R2: %s\" % r2)\n",
    "\n",
    "        mlflow.log_param(\"alpha\", alpha)\n",
    "        mlflow.log_param(\"l1_ratio\", l1_ratio)\n",
    "        mlflow.log_metric(\"rmse\", rmse)\n",
    "        mlflow.log_metric(\"r2\", r2)\n",
    "        mlflow.log_metric(\"mae\", mae)\n",
    "\n",
    "        tracking_url_type_store = urlparse(mlflow.get_tracking_uri()).scheme\n",
    "        print(mlflow.get_tracking_uri())\n",
    "        print(tracking_url_type_store)\n",
    "        # Model registry does not work with file store\n",
    "        if tracking_url_type_store != \"file\":\n",
    "            # Register the model\n",
    "            # There are other ways to use the Model Registry, which depends on the use case,\n",
    "            # please refer to the doc for more information:\n",
    "            # https://mlflow.org/docs/latest/model-registry.html#api-workflow\n",
    "            #mlflow.sklearn.log_model(lr, os.environ['DOMINO_STARTING_USERNAME']+\"/model\", registered_model_name=\"DEMO-ElasticnetWineModel-11\")\n",
    "            mlflow.sklearn.log_model(lr, \"demo_model\", registered_model_name=model_name)\n",
    "\n",
    "        else:        \n",
    "            mlflow.sklearn.log_model(lr,  model_name)\n",
    "        print(mlflow.get_artifact_uri())\n",
    "        alpha=alpha+0.1\n",
    "        l1_ratio = l1_ratio + 0.05        \n",
    "        "
   ]
  },
  {
   "cell_type": "code",
   "execution_count": null,
   "id": "dc6fb8e4-49a1-4051-9595-fcdedce2c15c",
   "metadata": {},
   "outputs": [],
   "source": []
  },
  {
   "cell_type": "code",
   "execution_count": null,
   "id": "c0f622f5-8b0b-4e75-99b5-34c3af747cdf",
   "metadata": {},
   "outputs": [],
   "source": []
  }
 ],
 "metadata": {
  "kernelspec": {
   "display_name": "Python 3 (ipykernel)",
   "language": "python",
   "name": "python3"
  },
  "language_info": {
   "codemirror_mode": {
    "name": "ipython",
    "version": 3
   },
   "file_extension": ".py",
   "mimetype": "text/x-python",
   "name": "python",
   "nbconvert_exporter": "python",
   "pygments_lexer": "ipython3",
   "version": "3.8.12"
  }
 },
 "nbformat": 4,
 "nbformat_minor": 5
}
